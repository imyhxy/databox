{
 "cells": [
  {
   "cell_type": "markdown",
   "id": "0",
   "metadata": {},
   "source": [
    "### Features\n",
    "- Load Ultralytics classification model and compute embeddings\n",
    "- Compute visualization and similarity\n",
    "- Apply model predictions\n",
    "- Compute mistakenness"
   ]
  },
  {
   "cell_type": "code",
   "execution_count": null,
   "id": "1",
   "metadata": {},
   "outputs": [],
   "source": [
    "import fiftyone as fo\n",
    "import fiftyone.brain as fob\n",
    "import fiftyone.core.models as fom\n",
    "import fiftyone.types as fot\n",
    "import patchbrain  # noqa: F401\n",
    "from fiftyone import ViewField as F"
   ]
  },
  {
   "cell_type": "code",
   "execution_count": null,
   "id": "2",
   "metadata": {},
   "outputs": [],
   "source": [
    "fo.annotation_config.backends[\"cvat\"][\"segment_size\"] = 300"
   ]
  },
  {
   "cell_type": "code",
   "execution_count": null,
   "id": "3",
   "metadata": {},
   "outputs": [],
   "source": [
    "dataset_type = fot.FiftyOneDataset\n",
    "dataset_dir = \"/home/fkwong/Downloads/marks_similarity/train_250812\"\n",
    "categories = [\n",
    "    \"danger_vehicle\",\n",
    "    \"dumper\",\n",
    "    \"dumper6\",\n",
    "    \"others\",\n",
    "    \"pickup\",\n",
    "    \"truck_box\",\n",
    "    \"unknown\",\n",
    "]\n",
    "anno_key = \"cvat_annotation\"\n",
    "prediction_field = \"ultralytics_prediction\"\n",
    "label_field = \"ground_truth\"\n",
    "temp_anno_field = \"temp_annotation\""
   ]
  },
  {
   "cell_type": "code",
   "execution_count": null,
   "id": "4",
   "metadata": {},
   "outputs": [],
   "source": [
    "dataset = fo.Dataset.from_dir(dataset_type=dataset_type, dataset_dir=dataset_dir)"
   ]
  },
  {
   "cell_type": "code",
   "execution_count": null,
   "id": "5",
   "metadata": {},
   "outputs": [],
   "source": [
    "model_path = \"/home/fkwong/Downloads/marks_similarity/last.pt\"\n",
    "config = {\n",
    "    \"type\": \"fiftyone.utils.ultralytics.FiftyOneYOLOClassificationModel\",\n",
    "    \"config\": {\n",
    "        \"entrypoint_fcn\": \"ultralytics.YOLO\",\n",
    "        \"entrypoint_args\": {\"model\": model_path},\n",
    "        \"output_processor_cls\": \"fiftyone.utils.ultralytics.UltralyticsClassificationOutputProcessor\",\n",
    "        \"embeddings_layer\": \"<model.model.9.linear\",\n",
    "    },\n",
    "}\n",
    "model = fom.load_model(config, model_path=model_path)"
   ]
  },
  {
   "cell_type": "code",
   "execution_count": null,
   "id": "6",
   "metadata": {},
   "outputs": [],
   "source": [
    "for k, v in model._model.named_modules():\n",
    "    # print(k)\n",
    "    pass\n",
    "model.has_embeddings"
   ]
  },
  {
   "cell_type": "code",
   "execution_count": null,
   "id": "7",
   "metadata": {},
   "outputs": [],
   "source": [
    "dataset.compute_embeddings(\n",
    "    model,\n",
    "    embeddings_field=f\"{prediction_field}_embeddings\",\n",
    "    batch_size=32,\n",
    "    num_workers=8,\n",
    "    progress=True,\n",
    ")"
   ]
  },
  {
   "cell_type": "code",
   "execution_count": null,
   "id": "8",
   "metadata": {},
   "outputs": [],
   "source": [
    "dataset.delete_brain_run(f\"{prediction_field}_visualization\")\n",
    "dataset.delete_brain_run(f\"{prediction_field}_similarity\")"
   ]
  },
  {
   "cell_type": "code",
   "execution_count": null,
   "id": "9",
   "metadata": {},
   "outputs": [],
   "source": [
    "visualization_result = fob.compute_visualization(\n",
    "    dataset,\n",
    "    embeddings=f\"{prediction_field}_embeddings\",\n",
    "    brain_key=f\"{prediction_field}_visualization\",\n",
    "    progress=True,\n",
    ")"
   ]
  },
  {
   "cell_type": "code",
   "execution_count": null,
   "id": "10",
   "metadata": {},
   "outputs": [],
   "source": [
    "similarity_result = fob.compute_similarity(\n",
    "    dataset,\n",
    "    embeddings=f\"{prediction_field}_embeddings\",\n",
    "    brain_key=f\"{prediction_field}_similarity\",\n",
    "    progress=True,\n",
    ")"
   ]
  },
  {
   "cell_type": "code",
   "execution_count": null,
   "id": "11",
   "metadata": {},
   "outputs": [],
   "source": [
    "dataset.apply_model(\n",
    "    model,\n",
    "    label_field=prediction_field,\n",
    "    batch_size=32,\n",
    "    store_logits=True,\n",
    "    num_workers=8,\n",
    "    progress=True,\n",
    ")"
   ]
  },
  {
   "cell_type": "code",
   "execution_count": null,
   "id": "12",
   "metadata": {},
   "outputs": [],
   "source": [
    "prediction_view = dataset.match(~F(prediction_field).is_null())"
   ]
  },
  {
   "cell_type": "code",
   "execution_count": null,
   "id": "13",
   "metadata": {},
   "outputs": [],
   "source": [
    "mistakenness_field = f\"{prediction_field}_mistakenness\"\n",
    "fob.compute_mistakenness(\n",
    "    prediction_view,\n",
    "    prediction_field,\n",
    "    \"ground_truth\",\n",
    "    mistakenness_field=mistakenness_field,\n",
    ")"
   ]
  },
  {
   "cell_type": "code",
   "execution_count": null,
   "id": "14",
   "metadata": {},
   "outputs": [],
   "source": [
    "anno_view = prediction_view.match((F(mistakenness_field) > 0.5)).sort_by(\n",
    "    mistakenness_field,\n",
    "    reverse=False,\n",
    ")"
   ]
  },
  {
   "cell_type": "code",
   "execution_count": null,
   "id": "15",
   "metadata": {},
   "outputs": [],
   "source": [
    "sess = fo.Session(dataset, auto=False, address=\"0.0.0.0\")"
   ]
  },
  {
   "cell_type": "code",
   "execution_count": null,
   "id": "16",
   "metadata": {},
   "outputs": [],
   "source": [
    "anno_view = dataset.select(sess.selected)"
   ]
  },
  {
   "cell_type": "code",
   "execution_count": null,
   "id": "17",
   "metadata": {},
   "outputs": [],
   "source": [
    "if len(anno_view) > 0:\n",
    "    if anno_key in dataset.list_saved_views():\n",
    "        print(f\"{anno_key} view existed!\")\n",
    "    else:\n",
    "        dataset.save_view(anno_key, anno_view)\n",
    "else:\n",
    "    print(\"No sample to be annotated.\")"
   ]
  },
  {
   "cell_type": "code",
   "execution_count": null,
   "id": "18",
   "metadata": {},
   "outputs": [],
   "source": [
    "if len(anno_view) > 0:\n",
    "    sess = fo.Session(anno_view, auto=False, address=\"0.0.0.0\")\n",
    "else:\n",
    "    print(\"No sample to be reviewed.\")"
   ]
  },
  {
   "cell_type": "code",
   "execution_count": null,
   "id": "19",
   "metadata": {},
   "outputs": [],
   "source": [
    "if len(anno_view) > 0:\n",
    "    anno_results = anno_view.annotate(\n",
    "        anno_key=anno_key,\n",
    "        label_field=label_field,\n",
    "        label_type=\"classification\",\n",
    "        classes=categories,\n",
    "        launch_editor=False,\n",
    "    )\n",
    "else:\n",
    "    print(\"No sample to be annotated.\")"
   ]
  },
  {
   "cell_type": "code",
   "execution_count": null,
   "id": "20",
   "metadata": {},
   "outputs": [],
   "source": [
    "anno_view = dataset.load_annotation_view(anno_key)\n",
    "anno_view.load_annotations(\n",
    "    anno_key,\n",
    "    dest_field=temp_anno_field,\n",
    "    cleanup=False,\n",
    ")\n",
    "sess.view = anno_view"
   ]
  },
  {
   "cell_type": "code",
   "execution_count": null,
   "id": "21",
   "metadata": {},
   "outputs": [],
   "source": [
    "anno_results = anno_view.load_annotation_results(anno_key)\n",
    "for k, v in anno_results.get_status()[label_field].items():\n",
    "    if v[\"status\"] != \"completed\":\n",
    "        print(f\"Task-{k} is not completed yet, current status: {v['status']}\")\n",
    "        break\n",
    "else:\n",
    "    anno_view.load_annotations(anno_key, dest_field=label_field, cleanup=False)"
   ]
  },
  {
   "cell_type": "code",
   "execution_count": null,
   "id": "22",
   "metadata": {},
   "outputs": [],
   "source": [
    "anno_results = dataset.load_annotation_results(\n",
    "    anno_key,\n",
    "    cache=False,\n",
    ")"
   ]
  },
  {
   "cell_type": "code",
   "execution_count": null,
   "id": "23",
   "metadata": {},
   "outputs": [],
   "source": [
    "dataset.delete_sample_fields(\n",
    "    [\n",
    "        temp_anno_field,\n",
    "        mistakenness_field,\n",
    "        prediction_field,\n",
    "    ],\n",
    "    error_level=1,\n",
    ")\n",
    "anno_results.cleanup()\n",
    "if anno_key in dataset.list_annotation_runs():\n",
    "    dataset.delete_annotation_run(anno_key)\n",
    "if anno_key in dataset.list_saved_views():\n",
    "    dataset.delete_saved_view(anno_key)\n",
    "dataset.list_saved_views()\n",
    "dataset.list_annotation_runs()"
   ]
  },
  {
   "cell_type": "code",
   "execution_count": null,
   "id": "24",
   "metadata": {},
   "outputs": [],
   "source": [
    "dataset.count_sample_tags()"
   ]
  },
  {
   "cell_type": "code",
   "execution_count": null,
   "id": "25",
   "metadata": {},
   "outputs": [],
   "source": [
    "dataset.export(\n",
    "    export_dir=dataset_dir + \"_new\",\n",
    "    dataset_type=fot.FiftyOneDataset,\n",
    "    export_media=True,\n",
    ")"
   ]
  },
  {
   "cell_type": "code",
   "execution_count": null,
   "id": "26",
   "metadata": {},
   "outputs": [],
   "source": []
  }
 ],
 "metadata": {
  "kernelspec": {
   "display_name": "Python 3 (ipykernel)",
   "language": "python",
   "name": "python3"
  },
  "language_info": {
   "codemirror_mode": {
    "name": "ipython",
    "version": 3
   },
   "file_extension": ".py",
   "mimetype": "text/x-python",
   "name": "python",
   "nbconvert_exporter": "python",
   "pygments_lexer": "ipython3",
   "version": "3.11.8"
  }
 },
 "nbformat": 4,
 "nbformat_minor": 5
}

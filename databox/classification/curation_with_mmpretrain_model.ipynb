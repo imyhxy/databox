{
 "cells": [
  {
   "cell_type": "markdown",
   "id": "0",
   "metadata": {},
   "source": [
    "### Features\n",
    "- Load mmpretrain classification model and compute embeddings\n",
    "- Compute visualization and similarity\n",
    "- Apply model predictions\n",
    "- Compute mistakenness\n",
    "- Find out label inconsistency among similar samples"
   ]
  },
  {
   "cell_type": "code",
   "execution_count": null,
   "id": "1",
   "metadata": {},
   "outputs": [],
   "source": [
    "import os.path as osp\n",
    "from copy import deepcopy\n",
    "\n",
    "import fiftyone as fo\n",
    "import fiftyone.brain as fob\n",
    "import fiftyone.core.models as fom\n",
    "import fiftyone.types as fot\n",
    "import fiftyone.utils as fou\n",
    "import patchbrain  # noqa: F401\n",
    "import yaml\n",
    "from fiftyone import ViewField as F"
   ]
  },
  {
   "cell_type": "code",
   "execution_count": null,
   "id": "2",
   "metadata": {},
   "outputs": [],
   "source": [
    "fo.annotation_config.backends[\"cvat\"][\"segment_size\"] = 300"
   ]
  },
  {
   "cell_type": "code",
   "execution_count": null,
   "id": "3",
   "metadata": {},
   "outputs": [],
   "source": [
    "dataset_type = fot.FiftyOneDataset\n",
    "config_file = \"../../../config.yaml\"\n",
    "\n",
    "if osp.exists(config_file):\n",
    "    print(f\"Loading config from {config_file}\")\n",
    "    config = yaml.safe_load(open(config_file, \"r\"))\n",
    "    dataset_dir = config[\"dataset_dir\"]\n",
    "    model_config = config[\"model_config\"]\n",
    "    model_checkpoint = config[\"model_checkpoint\"]\n",
    "    categories = config[\"categories\"]\n",
    "    anno_key = config[\"anno_key\"]\n",
    "    prediction_field = config[\"prediction_field\"]\n",
    "    label_field = config[\"label_field\"]\n",
    "    temp_anno_field = config[\"temp_anno_field\"]\n",
    "else:\n",
    "    dataset_dir = \"/home/fkwong/datasets/82_truckcls/data/raw/truckcls-fiftyone\"\n",
    "    model_config = \"/home/fkwong/workspace/srcs/public/grp_openmm/mmpretrain/work_dirs/efficientnet-b1_8xb32_truckcls/20250805_172827/efficientnet-b1_8xb32_truckcls.py\"\n",
    "    model_checkpoint = \"/home/fkwong/workspace/srcs/public/grp_openmm/mmpretrain/work_dirs/efficientnet-b1_8xb32_truckcls/20250805_172827/best_accuracy_top1_epoch_46.pth\"\n",
    "    categories = [\n",
    "        \"danger_vehicle\",\n",
    "        \"dumper\",\n",
    "        \"dumper6\",\n",
    "        \"others\",\n",
    "        \"pickup\",\n",
    "        \"truck_box\",\n",
    "        \"unknown\",\n",
    "    ]\n",
    "    anno_key = \"cvat_annotation\"\n",
    "    prediction_field = \"efficientnet_b1\"\n",
    "    label_field = \"ground_truth\"  # classification\n",
    "    temp_anno_field = \"temp_annotation\""
   ]
  },
  {
   "cell_type": "code",
   "execution_count": null,
   "id": "4",
   "metadata": {},
   "outputs": [],
   "source": [
    "dataset = fo.Dataset.from_dir(dataset_type=dataset_type, dataset_dir=dataset_dir)"
   ]
  },
  {
   "cell_type": "code",
   "execution_count": null,
   "id": "5",
   "metadata": {},
   "outputs": [],
   "source": [
    "default_config = deepcopy(fou.mmpretrain.MMPRETRAIN_DEFAULT_DEPLOYMENT_CONFIG)\n",
    "default_config[\"config\"][\"model_config\"] = model_config\n",
    "default_config[\"config\"][\"model_checkpoint\"] = model_checkpoint\n",
    "default_config[\"config\"][\"classes\"] = categories\n",
    "model = fom.load_model(default_config)"
   ]
  },
  {
   "cell_type": "code",
   "execution_count": null,
   "id": "6",
   "metadata": {},
   "outputs": [],
   "source": [
    "dataset.compute_embeddings(\n",
    "    model,\n",
    "    embeddings_field=f\"{prediction_field}_embeddings\",\n",
    "    batch_size=32,\n",
    "    num_workers=8,\n",
    "    progress=True,\n",
    ")"
   ]
  },
  {
   "cell_type": "code",
   "execution_count": null,
   "id": "7",
   "metadata": {},
   "outputs": [],
   "source": [
    "if f\"{prediction_field}_visualization\" in dataset.list_brain_runs():\n",
    "    dataset.delete_brain_run(f\"{prediction_field}_visualization\")\n",
    "if f\"{prediction_field}_similarity\" in dataset.list_brain_runs():\n",
    "    dataset.delete_brain_run(f\"{prediction_field}_similarity\")"
   ]
  },
  {
   "cell_type": "code",
   "execution_count": null,
   "id": "8",
   "metadata": {},
   "outputs": [],
   "source": [
    "visualization_result = fob.compute_visualization(\n",
    "    dataset,\n",
    "    embeddings=f\"{prediction_field}_embeddings\",\n",
    "    brain_key=f\"{prediction_field}_visualization\",\n",
    "    progress=True,\n",
    ")"
   ]
  },
  {
   "cell_type": "code",
   "execution_count": null,
   "id": "9",
   "metadata": {},
   "outputs": [],
   "source": [
    "similarity_result = fob.compute_similarity(\n",
    "    dataset,\n",
    "    embeddings=f\"{prediction_field}_embeddings\",\n",
    "    brain_key=f\"{prediction_field}_similarity\",\n",
    "    progress=True,\n",
    ")"
   ]
  },
  {
   "cell_type": "code",
   "execution_count": null,
   "id": "10",
   "metadata": {},
   "outputs": [],
   "source": [
    "dataset.apply_model(\n",
    "    model,\n",
    "    label_field=prediction_field,\n",
    "    batch_size=32,\n",
    "    store_logits=True,\n",
    "    num_workers=8,\n",
    "    progress=True,\n",
    ")"
   ]
  },
  {
   "cell_type": "code",
   "execution_count": null,
   "id": "11",
   "metadata": {},
   "outputs": [],
   "source": [
    "prediction_view = dataset.match(~F(prediction_field).is_null())"
   ]
  },
  {
   "cell_type": "code",
   "execution_count": null,
   "id": "12",
   "metadata": {},
   "outputs": [],
   "source": [
    "mistakenness_field = f\"{prediction_field}_mistakenness\"\n",
    "fob.compute_mistakenness(\n",
    "    prediction_view,\n",
    "    prediction_field,\n",
    "    \"ground_truth\",\n",
    "    mistakenness_field=mistakenness_field,\n",
    ")"
   ]
  },
  {
   "cell_type": "code",
   "execution_count": null,
   "id": "13",
   "metadata": {},
   "outputs": [],
   "source": [
    "compute_mistakenness_view = prediction_view.match(\n",
    "    (F(mistakenness_field) > 0.92)\n",
    ").sort_by(\n",
    "    mistakenness_field,\n",
    "    reverse=True,\n",
    ")"
   ]
  },
  {
   "cell_type": "code",
   "execution_count": null,
   "id": "14",
   "metadata": {},
   "outputs": [],
   "source": [
    "sess = fo.Session(compute_mistakenness_view, auto=False)"
   ]
  },
  {
   "cell_type": "code",
   "execution_count": null,
   "id": "15",
   "metadata": {},
   "outputs": [],
   "source": [
    "similarity_result.find_duplicates(thresh=0.3)\n",
    "mistakenness_view = similarity_result.mistakenness_view(\n",
    "    \"ground_truth.label\",\n",
    "    type_field=f\"{prediction_field}_dup_type\",\n",
    "    id_field=f\"{prediction_field}_dup_id\",\n",
    "    dist_field=f\"{prediction_field}_dup_dist\",\n",
    "    reverse=False,\n",
    ")"
   ]
  },
  {
   "cell_type": "code",
   "execution_count": null,
   "id": "16",
   "metadata": {},
   "outputs": [],
   "source": [
    "sess.view = mistakenness_view"
   ]
  },
  {
   "cell_type": "code",
   "execution_count": null,
   "id": "17",
   "metadata": {},
   "outputs": [],
   "source": [
    "# anno_view = dataset.select(sess.selected)\n",
    "anno_view = dataset.match_tags(\"relabel\")"
   ]
  },
  {
   "cell_type": "code",
   "execution_count": null,
   "id": "18",
   "metadata": {},
   "outputs": [],
   "source": [
    "if len(anno_view) > 0:\n",
    "    if anno_key in dataset.list_saved_views():\n",
    "        print(f\"{anno_key} view existed!\")\n",
    "    else:\n",
    "        dataset.save_view(anno_key, anno_view)\n",
    "else:\n",
    "    print(\"No sample to be annotated.\")"
   ]
  },
  {
   "cell_type": "code",
   "execution_count": null,
   "id": "19",
   "metadata": {},
   "outputs": [],
   "source": [
    "if len(anno_view) > 0:\n",
    "    sess = fo.Session(anno_view, auto=False)\n",
    "else:\n",
    "    print(\"No sample to be reviewed.\")"
   ]
  },
  {
   "cell_type": "code",
   "execution_count": null,
   "id": "20",
   "metadata": {},
   "outputs": [],
   "source": [
    "if len(anno_view) > 0:\n",
    "    anno_results = anno_view.annotate(\n",
    "        anno_key=anno_key,\n",
    "        label_field=label_field,\n",
    "        label_type=\"classification\",\n",
    "        classes=categories,\n",
    "        launch_editor=False,\n",
    "    )\n",
    "else:\n",
    "    print(\"No sample to be annotated.\")"
   ]
  },
  {
   "cell_type": "code",
   "execution_count": null,
   "id": "21",
   "metadata": {},
   "outputs": [],
   "source": [
    "anno_view = dataset.load_annotation_view(anno_key)\n",
    "anno_view.load_annotations(\n",
    "    anno_key,\n",
    "    dest_field=temp_anno_field,\n",
    "    cleanup=False,\n",
    ")\n",
    "sess.view = anno_view"
   ]
  },
  {
   "cell_type": "code",
   "execution_count": null,
   "id": "22",
   "metadata": {},
   "outputs": [],
   "source": [
    "anno_results = anno_view.load_annotation_results(anno_key)\n",
    "for k, v in anno_results.get_status()[label_field].items():\n",
    "    if v[\"status\"] != \"completed\":\n",
    "        print(f\"Task-{k} is not completed yet, current status: {v['status']}\")\n",
    "        break\n",
    "else:\n",
    "    anno_view.load_annotations(anno_key, dest_field=label_field, cleanup=False)"
   ]
  },
  {
   "cell_type": "code",
   "execution_count": null,
   "id": "23",
   "metadata": {},
   "outputs": [],
   "source": [
    "anno_results = dataset.load_annotation_results(\n",
    "    anno_key,\n",
    "    cache=False,\n",
    ")"
   ]
  },
  {
   "cell_type": "code",
   "execution_count": null,
   "id": "24",
   "metadata": {},
   "outputs": [],
   "source": [
    "dataset.delete_sample_fields(\n",
    "    [\n",
    "        temp_anno_field,\n",
    "        mistakenness_field,\n",
    "        prediction_field,\n",
    "    ],\n",
    "    error_level=1,\n",
    ")\n",
    "anno_results.cleanup()\n",
    "if anno_key in dataset.list_annotation_runs():\n",
    "    dataset.delete_annotation_run(anno_key)\n",
    "if anno_key in dataset.list_saved_views():\n",
    "    dataset.delete_saved_view(anno_key)\n",
    "dataset.list_saved_views()\n",
    "dataset.list_annotation_runs()\n",
    "dataset.untag_samples(\"relabel\")"
   ]
  },
  {
   "cell_type": "code",
   "execution_count": null,
   "id": "25",
   "metadata": {},
   "outputs": [],
   "source": [
    "dataset.export(\n",
    "    export_dir=dataset_dir,\n",
    "    dataset_type=dataset_type,\n",
    "    export_media=True,\n",
    ")"
   ]
  }
 ],
 "metadata": {
  "kernelspec": {
   "display_name": "Python 3",
   "language": "python",
   "name": "python3"
  },
  "language_info": {
   "codemirror_mode": {
    "name": "ipython",
    "version": 2
   },
   "file_extension": ".py",
   "mimetype": "text/x-python",
   "name": "python",
   "nbconvert_exporter": "python",
   "pygments_lexer": "ipython2",
   "version": "2.7.6"
  }
 },
 "nbformat": 4,
 "nbformat_minor": 5
}

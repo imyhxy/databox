{
 "cells": [
  {
   "cell_type": "code",
   "execution_count": null,
   "id": "0",
   "metadata": {},
   "outputs": [],
   "source": [
    "import os.path as osp\n",
    "import pickle\n",
    "\n",
    "import fiftyone as fo\n",
    "import fiftyone.brain as fob\n",
    "import fiftyone.types as fot\n",
    "import yaml\n",
    "from fiftyone import ViewField as F"
   ]
  },
  {
   "cell_type": "code",
   "execution_count": null,
   "id": "1",
   "metadata": {},
   "outputs": [],
   "source": [
    "fo.annotation_config.backends[\"cvat\"][\"segment_size\"] = 300"
   ]
  },
  {
   "cell_type": "code",
   "execution_count": null,
   "id": "2",
   "metadata": {},
   "outputs": [],
   "source": [
    "dataset_type = fot.FiftyOneDataset\n",
    "config_file = \"../../../config.yaml\"\n",
    "\n",
    "if osp.exists(config_file):\n",
    "    print(f\"Loading config from {config_file}\")\n",
    "    config = yaml.safe_load(config_file)\n",
    "    dataset_dir = config[\"dataset_dir\"]\n",
    "    prediction_file = config[\"prediction_file\"]\n",
    "    categories = config[\"categories\"]\n",
    "    anno_key = config[\"anno_key\"]\n",
    "    prediction_field = config[\"prediction_field\"]\n",
    "    label_field = config[\"label_field\"]\n",
    "    temp_anno_field = config[\"temp_anno_field\"]\n",
    "else:\n",
    "    dataset_dir = \"/home/fkwong/datasets/82_truckcls/data/raw/truckcls-fiftyone\"\n",
    "    prediction_file = \"/home/fkwong/workspace/srcs/public/grp_openmm/mmpretrain/work_dirs/test_outputs/efficientnet-b1_8xb32_truckcls/pred.pkl\"\n",
    "    categories = [\n",
    "        \"danger_vehicle\",\n",
    "        \"dumper\",\n",
    "        \"dumper6\",\n",
    "        \"others\",\n",
    "        \"pickup\",\n",
    "        \"truck_box\",\n",
    "        \"unknown\",\n",
    "    ]\n",
    "    anno_key = \"cvat_annotation\"\n",
    "    prediction_field = \"efficientnet_b1\"\n",
    "    label_field = \"ground_truth\"  # classification\n",
    "    temp_anno_field = \"temp_annotation\""
   ]
  },
  {
   "cell_type": "code",
   "execution_count": null,
   "id": "3",
   "metadata": {},
   "outputs": [],
   "source": [
    "dataset = fo.Dataset.from_dir(\n",
    "    dataset_type=dataset_type,\n",
    "    dataset_dir=dataset_dir,\n",
    ")"
   ]
  },
  {
   "cell_type": "code",
   "execution_count": null,
   "id": "4",
   "metadata": {},
   "outputs": [],
   "source": [
    "predictions = pickle.load(open(prediction_file, \"rb\"))\n",
    "prediction_map = {}\n",
    "for prediction in predictions:\n",
    "    filepath = osp.abspath(prediction[\"img_path\"])\n",
    "    prediction_map[filepath] = prediction"
   ]
  },
  {
   "cell_type": "code",
   "execution_count": null,
   "id": "5",
   "metadata": {},
   "outputs": [],
   "source": [
    "with dataset.save_context() as ctx:\n",
    "    for sample in dataset:\n",
    "        filepath = osp.abspath(sample.filepath)\n",
    "        if filepath in prediction_map:\n",
    "            prediction = prediction_map[filepath]\n",
    "            idx = prediction[\"pred_label\"].item()\n",
    "            label = categories[idx]\n",
    "            sample[prediction_field] = fo.Classification(\n",
    "                label=label,\n",
    "                confidence=prediction[\"pred_score\"][idx].item(),\n",
    "                logits=prediction[\"pred_score\"].numpy().tolist(),\n",
    "            )\n",
    "            ctx.save(sample)"
   ]
  },
  {
   "cell_type": "code",
   "execution_count": null,
   "id": "6",
   "metadata": {},
   "outputs": [],
   "source": [
    "prediction_view = dataset.match(~F(prediction_field).is_null())"
   ]
  },
  {
   "cell_type": "code",
   "execution_count": null,
   "id": "7",
   "metadata": {},
   "outputs": [],
   "source": [
    "mistakenness_field = f\"{prediction_field}_mistakenness\"\n",
    "fob.compute_mistakenness(\n",
    "    prediction_view,\n",
    "    prediction_field,\n",
    "    \"ground_truth\",\n",
    "    mistakenness_field=mistakenness_field,\n",
    ")\n",
    "anno_view = prediction_view.match((F(mistakenness_field) > 0.90)).sort_by(\n",
    "    mistakenness_field,\n",
    "    reverse=True,\n",
    ")"
   ]
  },
  {
   "cell_type": "code",
   "execution_count": null,
   "id": "8",
   "metadata": {},
   "outputs": [],
   "source": [
    "sess = fo.Session(anno_view, auto=False)"
   ]
  },
  {
   "cell_type": "code",
   "execution_count": null,
   "id": "9",
   "metadata": {},
   "outputs": [],
   "source": [
    "anno_view = dataset.select(sess.selected)"
   ]
  },
  {
   "cell_type": "code",
   "execution_count": null,
   "id": "10",
   "metadata": {},
   "outputs": [],
   "source": [
    "if len(anno_view) > 0:\n",
    "    if anno_key in dataset.list_saved_views():\n",
    "        print(f\"{anno_key} view existed!\")\n",
    "    else:\n",
    "        dataset.save_view(anno_key, anno_view)\n",
    "else:\n",
    "    print(\"No sample to be annotated.\")"
   ]
  },
  {
   "cell_type": "code",
   "execution_count": null,
   "id": "11",
   "metadata": {},
   "outputs": [],
   "source": [
    "if len(anno_view) > 0:\n",
    "    sess = fo.Session(anno_view, auto=False)\n",
    "else:\n",
    "    print(\"No sample to be reviewed.\")"
   ]
  },
  {
   "cell_type": "code",
   "execution_count": null,
   "id": "12",
   "metadata": {},
   "outputs": [],
   "source": [
    "if len(anno_view) > 0:\n",
    "    anno_results = anno_view.annotate(\n",
    "        anno_key=anno_key,\n",
    "        label_field=label_field,\n",
    "        label_type=\"classification\",\n",
    "        classes=categories,\n",
    "        launch_editor=False,\n",
    "    )\n",
    "else:\n",
    "    print(\"No sample to be annotated.\")"
   ]
  },
  {
   "cell_type": "code",
   "execution_count": null,
   "id": "13",
   "metadata": {},
   "outputs": [],
   "source": [
    "anno_view = dataset.load_annotation_view(anno_key)\n",
    "anno_view.load_annotations(\n",
    "    anno_key,\n",
    "    dest_field=temp_anno_field,\n",
    "    cleanup=False,\n",
    ")"
   ]
  },
  {
   "cell_type": "code",
   "execution_count": null,
   "id": "14",
   "metadata": {},
   "outputs": [],
   "source": [
    "sess.view = anno_view"
   ]
  },
  {
   "cell_type": "code",
   "execution_count": null,
   "id": "15",
   "metadata": {},
   "outputs": [],
   "source": [
    "anno_results = anno_view.load_annotation_results(anno_key)\n",
    "for k, v in anno_results.get_status()[label_field].items():\n",
    "    if v[\"status\"] != \"completed\":\n",
    "        print(f\"Task-{k} is not completed yet, current status: {v['status']}\")\n",
    "        break\n",
    "else:\n",
    "    anno_view.load_annotations(anno_key, dest_field=label_field, cleanup=False)"
   ]
  },
  {
   "cell_type": "code",
   "execution_count": null,
   "id": "16",
   "metadata": {},
   "outputs": [],
   "source": [
    "anno_results = dataset.load_annotation_results(\n",
    "    anno_key,\n",
    "    cache=False,\n",
    ")"
   ]
  },
  {
   "cell_type": "code",
   "execution_count": null,
   "id": "17",
   "metadata": {},
   "outputs": [],
   "source": [
    "dataset.delete_sample_fields(\n",
    "    [\n",
    "        temp_anno_field,\n",
    "        mistakenness_field,\n",
    "        prediction_field,\n",
    "    ],\n",
    "    error_level=1,\n",
    ")"
   ]
  },
  {
   "cell_type": "code",
   "execution_count": null,
   "id": "18",
   "metadata": {},
   "outputs": [],
   "source": [
    "dataset.export(\n",
    "    export_dir=dataset_dir,\n",
    "    dataset_type=dataset_type,\n",
    "    export_media=True,\n",
    ")"
   ]
  },
  {
   "cell_type": "code",
   "execution_count": null,
   "id": "19",
   "metadata": {},
   "outputs": [],
   "source": [
    "anno_results.cleanup()\n",
    "dataset.delete_annotation_run(anno_key)\n",
    "dataset.delete_saved_view(anno_key)\n",
    "dataset.list_saved_views()\n",
    "dataset.list_annotation_runs()"
   ]
  },
  {
   "cell_type": "code",
   "execution_count": null,
   "id": "20",
   "metadata": {},
   "outputs": [],
   "source": []
  }
 ],
 "metadata": {
  "kernelspec": {
   "display_name": "Python 3",
   "language": "python",
   "name": "python3"
  },
  "language_info": {
   "codemirror_mode": {
    "name": "ipython",
    "version": 2
   },
   "file_extension": ".py",
   "mimetype": "text/x-python",
   "name": "python",
   "nbconvert_exporter": "python",
   "pygments_lexer": "ipython2",
   "version": "2.7.6"
  }
 },
 "nbformat": 4,
 "nbformat_minor": 5
}

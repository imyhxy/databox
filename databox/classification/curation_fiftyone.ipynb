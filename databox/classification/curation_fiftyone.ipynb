{
 "cells": [
  {
   "cell_type": "markdown",
   "id": "0",
   "metadata": {},
   "source": [
    "### Features\n",
    "- View dataset in FiftyOne, and select samples for annotation"
   ]
  },
  {
   "cell_type": "code",
   "execution_count": null,
   "id": "1",
   "metadata": {},
   "outputs": [],
   "source": [
    "import os.path as osp\n",
    "\n",
    "import fiftyone as fo\n",
    "import fiftyone.types as fot\n",
    "import yaml"
   ]
  },
  {
   "cell_type": "code",
   "execution_count": null,
   "id": "2",
   "metadata": {},
   "outputs": [],
   "source": [
    "fo.annotation_config.backends[\"cvat\"][\"segment_size\"] = 300"
   ]
  },
  {
   "cell_type": "code",
   "execution_count": null,
   "id": "3",
   "metadata": {},
   "outputs": [],
   "source": [
    "dataset_type = fot.FiftyOneDataset\n",
    "config_file = \"../../../config.yaml\"\n",
    "\n",
    "if osp.exists(config_file):\n",
    "    print(f\"Loading config from {config_file}\")\n",
    "    config = yaml.safe_load(open(config_file, \"r\"))\n",
    "    dataset_dir = config[\"dataset_dir\"]\n",
    "    categories = config[\"categories\"]\n",
    "    anno_key = config[\"anno_key\"]\n",
    "    label_field = config[\"label_field\"]\n",
    "    temp_anno_field = config[\"temp_anno_field\"]\n",
    "else:\n",
    "    dataset_dir = \"/home/fkwong/datasets/82_truckcls/data/raw/truckcls-fiftyone\"\n",
    "    categories = [\n",
    "        \"danger_vehicle\",\n",
    "        \"dumper\",\n",
    "        \"dumper6\",\n",
    "        \"others\",\n",
    "        \"pickup\",\n",
    "        \"truck_box\",\n",
    "        \"unknown\",\n",
    "    ]\n",
    "    anno_key = \"cvat_annotation\"\n",
    "    label_field = \"ground_truth\"  # classification\n",
    "    temp_anno_field = \"temp_annotation\""
   ]
  },
  {
   "cell_type": "code",
   "execution_count": null,
   "id": "4",
   "metadata": {},
   "outputs": [],
   "source": [
    "dataset = fo.Dataset.from_dir(\n",
    "    dataset_type=dataset_type,\n",
    "    dataset_dir=dataset_dir,\n",
    ")\n",
    "sess = fo.Session(dataset, auto=False)"
   ]
  },
  {
   "cell_type": "code",
   "execution_count": null,
   "id": "5",
   "metadata": {},
   "outputs": [],
   "source": [
    "anno_view = dataset.select(sess.selected)"
   ]
  },
  {
   "cell_type": "code",
   "execution_count": null,
   "id": "6",
   "metadata": {},
   "outputs": [],
   "source": [
    "if len(anno_view) > 0:\n",
    "    if anno_key in dataset.list_saved_views():\n",
    "        print(f\"{anno_key} view existed!\")\n",
    "    else:\n",
    "        dataset.save_view(anno_key, anno_view)\n",
    "else:\n",
    "    print(\"No sample to be annotated.\")"
   ]
  },
  {
   "cell_type": "code",
   "execution_count": null,
   "id": "7",
   "metadata": {},
   "outputs": [],
   "source": [
    "if len(anno_view) > 0:\n",
    "    sess = fo.Session(anno_view, auto=False)\n",
    "else:\n",
    "    print(\"No sample to be reviewed.\")"
   ]
  },
  {
   "cell_type": "code",
   "execution_count": null,
   "id": "8",
   "metadata": {},
   "outputs": [],
   "source": [
    "if len(anno_view) > 0:\n",
    "    anno_results = anno_view.annotate(\n",
    "        anno_key=anno_key,\n",
    "        label_field=label_field,\n",
    "        label_type=\"classification\",\n",
    "        classes=categories,\n",
    "        launch_editor=False,\n",
    "    )\n",
    "else:\n",
    "    print(\"No sample to be annotated.\")"
   ]
  },
  {
   "cell_type": "code",
   "execution_count": null,
   "id": "9",
   "metadata": {},
   "outputs": [],
   "source": [
    "anno_view = dataset.load_annotation_view(anno_key)\n",
    "anno_view.load_annotations(\n",
    "    anno_key,\n",
    "    dest_field=temp_anno_field,\n",
    "    cleanup=False,\n",
    ")"
   ]
  },
  {
   "cell_type": "code",
   "execution_count": null,
   "id": "10",
   "metadata": {},
   "outputs": [],
   "source": [
    "sess.view = anno_view"
   ]
  },
  {
   "cell_type": "code",
   "execution_count": null,
   "id": "11",
   "metadata": {},
   "outputs": [],
   "source": [
    "anno_results = anno_view.load_annotation_results(anno_key)\n",
    "for k, v in anno_results.get_status()[label_field].items():\n",
    "    if v[\"status\"] != \"completed\":\n",
    "        print(f\"Task-{k} is not completed yet, current status: {v['status']}\")\n",
    "        break\n",
    "else:\n",
    "    anno_view.load_annotations(anno_key, dest_field=label_field, cleanup=False)"
   ]
  },
  {
   "cell_type": "code",
   "execution_count": null,
   "id": "12",
   "metadata": {},
   "outputs": [],
   "source": [
    "anno_results = dataset.load_annotation_results(\n",
    "    anno_key,\n",
    "    cache=False,\n",
    ")"
   ]
  },
  {
   "cell_type": "code",
   "execution_count": null,
   "id": "13",
   "metadata": {},
   "outputs": [],
   "source": [
    "dataset.delete_sample_fields(\n",
    "    [\n",
    "        temp_anno_field,\n",
    "    ],\n",
    "    error_level=1,\n",
    ")\n",
    "anno_results.cleanup()\n",
    "if anno_key in dataset.list_annotation_runs():\n",
    "    dataset.delete_annotation_run(anno_key)\n",
    "if anno_key in dataset.list_saved_views():\n",
    "    dataset.delete_saved_view(anno_key)\n",
    "dataset.list_saved_views()\n",
    "dataset.list_annotation_runs()"
   ]
  },
  {
   "cell_type": "code",
   "execution_count": null,
   "id": "14",
   "metadata": {},
   "outputs": [],
   "source": [
    "dataset.export(\n",
    "    export_dir=dataset_dir,\n",
    "    dataset_type=dataset_type,\n",
    "    export_media=True,\n",
    ")"
   ]
  },
  {
   "cell_type": "code",
   "execution_count": null,
   "id": "15",
   "metadata": {},
   "outputs": [],
   "source": []
  }
 ],
 "metadata": {
  "kernelspec": {
   "display_name": "Python 3",
   "language": "python",
   "name": "python3"
  },
  "language_info": {
   "codemirror_mode": {
    "name": "ipython",
    "version": 2
   },
   "file_extension": ".py",
   "mimetype": "text/x-python",
   "name": "python",
   "nbconvert_exporter": "python",
   "pygments_lexer": "ipython2",
   "version": "2.7.6"
  }
 },
 "nbformat": 4,
 "nbformat_minor": 5
}

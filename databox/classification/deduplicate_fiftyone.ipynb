{
 "cells": [
  {
   "cell_type": "markdown",
   "id": "0",
   "metadata": {},
   "source": [
    "### Features\n",
    "- Load FiftyOne Zoo model and compute embeddings\n",
    "- Compute similarity\n",
    "- Find duplicates based on similarity"
   ]
  },
  {
   "cell_type": "code",
   "execution_count": null,
   "id": "1",
   "metadata": {},
   "outputs": [],
   "source": [
    "import os.path as osp\n",
    "import warnings\n",
    "\n",
    "import fiftyone as fo\n",
    "import fiftyone.brain as fob\n",
    "import fiftyone.types as fot\n",
    "import fiftyone.zoo as foz\n",
    "import patchbrain  # noqa\n",
    "import yaml\n",
    "\n",
    "warnings.filterwarnings(action=\"ignore\", category=UserWarning)"
   ]
  },
  {
   "cell_type": "code",
   "execution_count": null,
   "id": "2",
   "metadata": {},
   "outputs": [],
   "source": [
    "dataset_type = fot.FiftyOneDataset\n",
    "config_file = \"../../../config.yaml\"\n",
    "\n",
    "if osp.exists(config_file):\n",
    "    print(f\"Loading config from {config_file}\")\n",
    "    config = yaml.safe_load(open(config_file, \"r\"))\n",
    "    dataset_dir = config[\"dataset_dir\"]\n",
    "    output_dir = config[\"output_dir\"]\n",
    "else:\n",
    "    dataset_dir = \"/home/fkwong/datasets/82_truckcls/data/raw/truckcls-fiftyone\"\n",
    "    output_dir = \"/home/fkwong/datasets/82_truckcls/data/raw/truckcls-fiftyone-new\""
   ]
  },
  {
   "cell_type": "code",
   "execution_count": null,
   "id": "3",
   "metadata": {},
   "outputs": [],
   "source": [
    "dataset = fo.Dataset.from_dir(dataset_type=dataset_type, dataset_dir=dataset_dir)\n",
    "sess = fo.Session(dataset, auto=False)"
   ]
  },
  {
   "cell_type": "code",
   "execution_count": null,
   "id": "4",
   "metadata": {},
   "outputs": [],
   "source": [
    "def get_similarity(cfg, dataset):\n",
    "    if dataset.has_brain_run(cfg[\"sim_key\"]):\n",
    "        sim_res = dataset.load_brain_results(cfg[\"sim_key\"])\n",
    "    else:\n",
    "        if not dataset.has_sample_field(cfg[\"embed_key\"]):\n",
    "            model = foz.load_zoo_model(cfg[\"model_name\"])\n",
    "            dataset.compute_embeddings(\n",
    "                model=model,\n",
    "                embeddings_field=cfg[\"embed_key\"],\n",
    "                batch_size=cfg[\"batch_size\"],\n",
    "                num_workers=cfg[\"num_workers\"],\n",
    "            )\n",
    "        sim_res = fob.compute_similarity(\n",
    "            dataset, brain_key=cfg[\"sim_key\"], embeddings=cfg[\"embed_key\"]\n",
    "        )\n",
    "    sim_res.find_duplicates(thresh=cfg[\"dup_thresh\"])\n",
    "    dup_view = sim_res.duplicates_view(\n",
    "        type_field=cfg[\"type_field\"],\n",
    "        id_field=cfg[\"id_field\"],\n",
    "        dist_field=cfg[\"dist_field\"],\n",
    "        reverse=True,\n",
    "    )\n",
    "    return sim_res, dup_view"
   ]
  },
  {
   "cell_type": "code",
   "execution_count": null,
   "id": "5",
   "metadata": {},
   "outputs": [],
   "source": [
    "def get_model_config(name):\n",
    "    if name == \"clip-vit-base32-torch\":\n",
    "        return dict(\n",
    "            model_name=name,\n",
    "            batch_size=64,\n",
    "            num_workers=8,\n",
    "            embed_key=\"clip_vit_embeddings\",\n",
    "            uni_key=\"clip_vit_uniqueness\",\n",
    "            sim_key=\"clip_vit_similarity\",\n",
    "            viz_key=\"clip_vit_visualization\",\n",
    "            type_field=\"clip_vit_dup_type\",\n",
    "            id_field=\"clip_vit_dup_id\",\n",
    "            dist_field=\"clip_vit_dup_dist\",\n",
    "            viz_seed=1234,\n",
    "            dup_thresh=0.03,  # modify according to experience, 0.05 - 0.08\n",
    "            duplicate_tag=\"clip_vit_duplicate\",\n",
    "            unique_tag=\"clip_vit_unique\",\n",
    "        )\n",
    "    else:\n",
    "        raise AssertionError"
   ]
  },
  {
   "cell_type": "code",
   "execution_count": null,
   "id": "6",
   "metadata": {},
   "outputs": [],
   "source": [
    "cfg = get_model_config(\"clip-vit-base32-torch\")\n",
    "sim_res, dup_view = get_similarity(cfg, dataset)\n",
    "sess.view = dup_view\n",
    "print(len(sim_res.duplicate_ids))\n",
    "sess.open_tab()"
   ]
  },
  {
   "cell_type": "code",
   "execution_count": null,
   "id": "7",
   "metadata": {},
   "outputs": [],
   "source": [
    "dataset.delete_samples(dataset.select(sim_res.duplicate_ids))\n",
    "dataset.export(export_dir=output_dir, dataset_type=dataset_type, export_media=True)"
   ]
  }
 ],
 "metadata": {
  "kernelspec": {
   "display_name": "Python 3",
   "language": "python",
   "name": "python3"
  },
  "language_info": {
   "codemirror_mode": {
    "name": "ipython",
    "version": 2
   },
   "file_extension": ".py",
   "mimetype": "text/x-python",
   "name": "python",
   "nbconvert_exporter": "python",
   "pygments_lexer": "ipython2",
   "version": "2.7.6"
  }
 },
 "nbformat": 4,
 "nbformat_minor": 5
}
